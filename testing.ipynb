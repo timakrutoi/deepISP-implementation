{
 "cells": [
  {
   "cell_type": "code",
   "execution_count": null,
   "id": "b1984cb0-6667-4b7e-a565-61f538989acb",
   "metadata": {
    "jupyter": {
     "source_hidden": true
    },
    "tags": []
   },
   "outputs": [],
   "source": [
    "import torch\n",
    "import numpy as np\n",
    "import matplotlib.pyplot as plt\n",
    "from colour_demosaicing import demosaicing_CFA_Bayer_bilinear\n",
    "from os import sep\n",
    "from skimage import io\n",
    "from kornia.color import ycbcr_to_rgb\n",
    "\n",
    "from network import DeepISP\n",
    "from old.test_net import testnet\n",
    "from dataset import get_data\n",
    "from loss import deepISPloss\n",
    "\n",
    "from utils import *"
   ]
  },
  {
   "cell_type": "code",
   "execution_count": null,
   "id": "7490d89e-6f04-44b0-b54f-875484a84345",
   "metadata": {
    "tags": []
   },
   "outputs": [],
   "source": [
    "# data_path = '/home/jupyter/mnt/datasets/S7Dataset/S7-ISP-Dataset'\n",
    "data_path = '/home/tima/projects/isp/dataset/S7-ISP-Dataset'\n",
    "crop_size = 400\n",
    "epoch = 350\n",
    "norm_mode = 'simple'\n",
    "train, test = get_data(data_path, target='m', batch_size=1, crop_size=crop_size, flip=None, norm_mode=norm_mode)\n",
    "\n",
    "print(f'train batch number {len(train)}')\n",
    "print(f'test  batch number {len(test)}')"
   ]
  },
  {
   "cell_type": "code",
   "execution_count": null,
   "id": "3d3be3cf-6ca3-4d5f-ad7e-ea217f414c65",
   "metadata": {
    "jupyter": {
     "source_hidden": true
    },
    "tags": []
   },
   "outputs": [],
   "source": [
    "try:\n",
    "    cp = get_cp_name(epoch)\n",
    "    params = cp.split(sep)[-1].split('_e')[0][5:].split('-')\n",
    "    # print(cp)\n",
    "    model = DeepISP(*[int(i) for i in params]) # type(torch.float)\n",
    "    cp = torch.load(cp)\n",
    "    model.load_state_dict(cp['model_state_dict'])\n",
    "except IndexError:\n",
    "    model = DeepISP(1, 3)\n",
    "\n",
    "torch.autograd.set_detect_anomaly(True)\n",
    "criterion = deepISPloss(norm_mode=norm_mode)"
   ]
  },
  {
   "cell_type": "code",
   "execution_count": null,
   "id": "5b856435-8093-4a7f-a598-d9de751d73e2",
   "metadata": {},
   "outputs": [],
   "source": [
    "# there are 3 bad shapes in dataset\n",
    "# 54 69 in train\n",
    "# 8 in test\n",
    "\n",
    "n = 69\n",
    "x, target = train.dataset[n]\n",
    "\n",
    "img_shape = (x.shape[1], x.shape[2], x.shape[0])\n",
    "x = x.reshape((1, *x.shape)).float()\n",
    "target = target.reshape((1, *target.shape)).float()\n",
    "\n",
    "y = model(x)\n",
    "\n",
    "loss = criterion(y, target)\n",
    "print('loss', loss)\n",
    "\n",
    "norm = Norm(mode='positive')\n",
    "y = norm(y, bounds_before=(-1, 1))\n",
    "x = norm(x, bounds_before=(-1, 1))\n",
    "target = norm(target, bounds_before=(-1, 1))\n",
    "\n",
    "# print('x     ', x.shape, x.min(), x.max())\n",
    "# print('target', target.shape, target.min(), target.max())\n",
    "# print('y     ', y.shape, y.min(), y.max())\n",
    "\n",
    "x = x[0].permute(1, 2, 0)\n",
    "target = target[0].permute(1, 2, 0)\n",
    "y = y[0].permute(1, 2, 0).detach().numpy()\n",
    "\n",
    "y = target"
   ]
  },
  {
   "cell_type": "code",
   "execution_count": null,
   "id": "b123db2c-ff55-4f8a-a7f2-a94dd1924c1c",
   "metadata": {
    "jupyter": {
     "source_hidden": true
    },
    "tags": []
   },
   "outputs": [],
   "source": [
    "fig, axs = plt.subplots(2, 4)\n",
    "axs[0, 0].imshow(x[:,:,0])\n",
    "axs[0, 0].set_title('target R')\n",
    "axs[0, 1].imshow(x[:,:,1])\n",
    "axs[0, 1].set_title('target G')\n",
    "axs[0, 2].imshow(x[:,:,2])\n",
    "axs[0, 2].set_title('target B')\n",
    "axs[0, 3].imshow(x)\n",
    "axs[0, 3].set_title('target')\n",
    "axs[1, 0].imshow(y[:,:,0])\n",
    "axs[1, 0].set_title('output R')\n",
    "axs[1, 1].imshow(y[:,:,1])\n",
    "axs[1, 1].set_title('output G')\n",
    "axs[1, 2].imshow(y[:,:,2])\n",
    "axs[1, 2].set_title('output B')\n",
    "axs[1, 3].imshow(y)\n",
    "axs[1, 3].set_title('output')\n",
    "plt.show()"
   ]
  }
 ],
 "metadata": {
  "kernelspec": {
   "display_name": "Python 3 (ipykernel)",
   "language": "python",
   "name": "python3"
  },
  "language_info": {
   "codemirror_mode": {
    "name": "ipython",
    "version": 3
   },
   "file_extension": ".py",
   "mimetype": "text/x-python",
   "name": "python",
   "nbconvert_exporter": "python",
   "pygments_lexer": "ipython3",
   "version": "3.9.2"
  }
 },
 "nbformat": 4,
 "nbformat_minor": 5
}
